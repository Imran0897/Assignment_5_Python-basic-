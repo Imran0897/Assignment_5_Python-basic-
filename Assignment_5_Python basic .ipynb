{
 "cells": [
  {
   "cell_type": "code",
   "execution_count": null,
   "id": "44fb099e",
   "metadata": {},
   "outputs": [],
   "source": [
    "#Ans1.\n",
    "\n",
    "empty dictionary = {}"
   ]
  },
  {
   "cell_type": "code",
   "execution_count": 6,
   "id": "2c92922c",
   "metadata": {},
   "outputs": [
    {
     "data": {
      "text/plain": [
       "dict_values([42])"
      ]
     },
     "execution_count": 6,
     "metadata": {},
     "output_type": "execute_result"
    }
   ],
   "source": [
    "#Ans2.\n",
    "\n",
    "d ={'foo':42}\n",
    "d.values()"
   ]
  },
  {
   "cell_type": "markdown",
   "id": "25dc5a08",
   "metadata": {},
   "source": [
    "Ans3.\n",
    "\n",
    "A list refers to a collection of various index value pairs whereas A dictionary refers to a hashed structure of various pairs of keys and values."
   ]
  },
  {
   "cell_type": "code",
   "execution_count": 9,
   "id": "93d06632",
   "metadata": {},
   "outputs": [
    {
     "ename": "KeyError",
     "evalue": "'foo'",
     "output_type": "error",
     "traceback": [
      "\u001b[1;31m---------------------------------------------------------------------------\u001b[0m",
      "\u001b[1;31mKeyError\u001b[0m                                  Traceback (most recent call last)",
      "\u001b[1;32m~\\AppData\\Local\\Temp/ipykernel_21512/4026577702.py\u001b[0m in \u001b[0;36m<module>\u001b[1;34m\u001b[0m\n\u001b[0;32m      1\u001b[0m \u001b[0mspam\u001b[0m \u001b[1;33m=\u001b[0m \u001b[1;33m{\u001b[0m\u001b[1;34m'bar'\u001b[0m\u001b[1;33m:\u001b[0m\u001b[1;36m100\u001b[0m\u001b[1;33m}\u001b[0m\u001b[1;33m\u001b[0m\u001b[1;33m\u001b[0m\u001b[0m\n\u001b[1;32m----> 2\u001b[1;33m \u001b[0mspam\u001b[0m\u001b[1;33m[\u001b[0m\u001b[1;34m'foo'\u001b[0m\u001b[1;33m]\u001b[0m\u001b[1;33m\u001b[0m\u001b[1;33m\u001b[0m\u001b[0m\n\u001b[0m",
      "\u001b[1;31mKeyError\u001b[0m: 'foo'"
     ]
    }
   ],
   "source": [
    "#Ans4.\n",
    "\n",
    "spam = {'bar':100}\n",
    "spam['foo']\n",
    "\n",
    "#keyerror will be shown"
   ]
  },
  {
   "cell_type": "code",
   "execution_count": 14,
   "id": "3927a099",
   "metadata": {},
   "outputs": [
    {
     "data": {
      "text/plain": [
       "dict_keys(['cat'])"
      ]
     },
     "execution_count": 14,
     "metadata": {},
     "output_type": "execute_result"
    }
   ],
   "source": [
    "#Ans5.\n",
    "\n",
    "spam ={'cat':45}\n",
    "spam.keys()\n",
    "\n",
    "#There is no difference if 'cat' is key in dictionary spam."
   ]
  },
  {
   "cell_type": "code",
   "execution_count": 15,
   "id": "7046ebdd",
   "metadata": {},
   "outputs": [
    {
     "data": {
      "text/plain": [
       "dict_values([45])"
      ]
     },
     "execution_count": 15,
     "metadata": {},
     "output_type": "execute_result"
    }
   ],
   "source": [
    "#Ans6.\n",
    "\n",
    "spam ={'cat':45}\n",
    "spam.values()\n",
    "\n",
    "#There will be difference in expression if 'cat' is not value in dictionary spam. "
   ]
  },
  {
   "cell_type": "code",
   "execution_count": null,
   "id": "c6fad9cb",
   "metadata": {},
   "outputs": [],
   "source": [
    "#Ans7.\n",
    "\n",
    "'''if 'color' not in spam:\n",
    "    spam['color'] = 'black''''\n",
    "\n",
    "spam.setdefault('color','black')"
   ]
  },
  {
   "cell_type": "code",
   "execution_count": null,
   "id": "801a3a45",
   "metadata": {},
   "outputs": [],
   "source": [
    "#Ans8.\n",
    "\n",
    "'''The module is pprint.\n",
    "The functions are pprint.pprint() and pprint.pformat().'''"
   ]
  }
 ],
 "metadata": {
  "kernelspec": {
   "display_name": "Python 3 (ipykernel)",
   "language": "python",
   "name": "python3"
  },
  "language_info": {
   "codemirror_mode": {
    "name": "ipython",
    "version": 3
   },
   "file_extension": ".py",
   "mimetype": "text/x-python",
   "name": "python",
   "nbconvert_exporter": "python",
   "pygments_lexer": "ipython3",
   "version": "3.9.7"
  }
 },
 "nbformat": 4,
 "nbformat_minor": 5
}
